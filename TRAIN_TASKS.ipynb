{
 "cells": [
  {
   "cell_type": "code",
   "execution_count": 6,
   "id": "d7500ec7-cfec-4416-9ccc-b93c455c3b28",
   "metadata": {},
   "outputs": [
    {
     "name": "stdout",
     "output_type": "stream",
     "text": [
      "   Unnamed: 0                              Name    Location  Year  \\\n",
      "0           1  Hyundai Creta 1.6 CRDi SX Option        Pune  2015   \n",
      "1           2                      Honda Jazz V     Chennai  2011   \n",
      "2           3                 Maruti Ertiga VDI     Chennai  2012   \n",
      "3           4   Audi A4 New 2.0 TDI Multitronic  Coimbatore  2013   \n",
      "4           6            Nissan Micra Diesel XV      Jaipur  2013   \n",
      "\n",
      "   Kilometers_Driven Fuel_Type Transmission Owner_Type     Mileage   Engine  \\\n",
      "0              41000    Diesel       Manual      First  19.67 kmpl  1582 CC   \n",
      "1              46000    Petrol       Manual      First    13 km/kg  1199 CC   \n",
      "2              87000    Diesel       Manual      First  20.77 kmpl  1248 CC   \n",
      "3              40670    Diesel    Automatic     Second   15.2 kmpl  1968 CC   \n",
      "4              86999    Diesel       Manual      First  23.08 kmpl  1461 CC   \n",
      "\n",
      "       Power  Seats  New_Price  Price  \n",
      "0  126.2 bhp    5.0  4.78 Lakh  12.50  \n",
      "1   88.7 bhp    5.0  8.61 Lakh   4.50  \n",
      "2  88.76 bhp    7.0  4.78 Lakh   6.00  \n",
      "3  140.8 bhp    5.0  4.78 Lakh  17.74  \n",
      "4   63.1 bhp    5.0  4.78 Lakh   3.50  \n"
     ]
    }
   ],
   "source": [
    "import pandas as pd\n",
    "\n",
    "# Load the CSV data\n",
    "data = pd.read_csv(\"C:\\\\Users\\\\suren\\\\OneDrive\\\\Desktop\\\\ASSIGNMENT2\\\\train.csv\")\n",
    "\n",
    "# Fill missing values in all columns with the mode\n",
    "for col in data.columns:\n",
    "    data[col].fillna(data[col].mode()[0], inplace=True)\n",
    "\n",
    "# Save the updated data to a new CSV file\n",
    "data.to_csv(\"C:\\\\Users\\\\suren\\\\OneDrive\\\\Desktop\\\\ASSIGNMENT2\\\\train_a.csv\", index=False)\n",
    "data = pd.read_csv(\"C:\\\\Users\\\\suren\\\\OneDrive\\\\Desktop\\\\ASSIGNMENT2\\\\train_a.csv\")\n",
    "print(data.head())\n"
   ]
  },
  {
   "cell_type": "code",
   "execution_count": null,
   "id": "4012ac3c-b078-4194-b5eb-82126e5fd5e6",
   "metadata": {},
   "outputs": [],
   "source": []
  }
 ],
 "metadata": {
  "kernelspec": {
   "display_name": "Python 3 (ipykernel)",
   "language": "python",
   "name": "python3"
  },
  "language_info": {
   "codemirror_mode": {
    "name": "ipython",
    "version": 3
   },
   "file_extension": ".py",
   "mimetype": "text/x-python",
   "name": "python",
   "nbconvert_exporter": "python",
   "pygments_lexer": "ipython3",
   "version": "3.11.3"
  }
 },
 "nbformat": 4,
 "nbformat_minor": 5
}
