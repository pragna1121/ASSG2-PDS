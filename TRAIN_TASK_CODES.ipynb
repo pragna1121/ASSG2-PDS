{
 "cells": [
  {
   "cell_type": "code",
   "execution_count": 16,
   "id": "5e6394ba-7f48-4a19-a0d3-8d2fa2d84346",
   "metadata": {},
   "outputs": [],
   "source": [
    "import pandas as pd\n",
    "\n",
    "# Load the CSV data\n",
    "data = pd.read_csv(\"C:\\\\Users\\\\suren\\\\OneDrive\\\\Desktop\\\\ASSIGNMENT2\\\\train.csv\")\n",
    "\n",
    "# Fill missing values in all columns with the mode\n",
    "for col in data.columns:\n",
    "    data[col].fillna(data[col].mode()[0], inplace=True)\n",
    "\n",
    "# Save the updated data to a new CSV file\n",
    "data.to_csv(\"C:\\\\Users\\\\suren\\\\OneDrive\\\\Desktop\\\\ASSIGNMENT2\\\\train_a.csv\", index=False)\n"
   ]
  },
  {
   "cell_type": "code",
   "execution_count": 18,
   "id": "422ba5dd-4903-484c-b363-df821b05a3b7",
   "metadata": {},
   "outputs": [],
   "source": [
    "import pandas as pd\n",
    "\n",
    "def remove_units_and_convert(data, columns):\n",
    "    for column in columns:\n",
    "        data[column] = data[column].str.extract('(\\d+\\.\\d+|\\d+)').astype(float, errors='ignore')\n",
    "\n",
    "# Load the CSV data\n",
    "data = pd.read_csv(\"C:\\\\Users\\\\suren\\\\OneDrive\\\\Desktop\\\\ASSIGNMENT2\\\\train_a.csv\")\n",
    "\n",
    "# Specify the columns to process\n",
    "columns_to_process = ['Mileage', 'Engine', 'Power', 'New_Price']\n",
    "\n",
    "# Call the function to remove units and keep only numerical values for the specified columns\n",
    "remove_units_and_convert(data, columns_to_process)\n",
    "\n",
    "# Save the updated data to a new CSV file\n",
    "data.to_csv(\"C:\\\\Users\\\\suren\\\\OneDrive\\\\Desktop\\\\ASSIGNMENT2\\\\train_b.csv\", index=False)"
   ]
  },
  {
   "cell_type": "code",
   "execution_count": 23,
   "id": "e56d9e9e-86fa-4eeb-ae40-305faee06af9",
   "metadata": {},
   "outputs": [],
   "source": [
    "import pandas as pd\n",
    "import category_encoders as ce\n",
    "\n",
    "# Load the CSV data\n",
    "data = pd.read_csv(\"C:\\\\Users\\\\suren\\\\OneDrive\\\\Desktop\\\\ASSIGNMENT2\\\\train_b.csv\")\n",
    "\n",
    "# Create a one-hot encoder\n",
    "encoder = ce.OneHotEncoder(cols=['Fuel_Type', 'Transmission'], use_cat_names=True)\n",
    "\n",
    "# Apply one-hot encoding to the specified columns\n",
    "encoded_data = encoder.fit_transform(data)\n",
    "\n",
    "# Save the updated data to a new CSV file\n",
    "encoded_data.to_csv(\"C:\\\\Users\\\\suren\\\\OneDrive\\\\Desktop\\\\ASSIGNMENT2\\\\train_c.csv\", index=False)\n"
   ]
  },
  {
   "cell_type": "code",
   "execution_count": 26,
   "id": "974a1167-4724-4b62-999f-2cc8f5971189",
   "metadata": {},
   "outputs": [],
   "source": [
    "import pandas as pd\n",
    "import datetime\n",
    "\n",
    "# Load the CSV data\n",
    "data = pd.read_csv(\"C:\\\\Users\\\\suren\\\\OneDrive\\\\Desktop\\\\ASSIGNMENT2\\\\train_c.csv\")\n",
    "\n",
    "# Calculate the current age of the car\n",
    "current_year = datetime.datetime.now().year\n",
    "data['Current_Age'] = (current_year - data['Year']).astype(str) + \" years\"\n",
    "\n",
    "# Create a new feature \"Mileage_Category\" based on Mileage values\n",
    "data['Mileage_Category'] = pd.cut(data['Mileage'], bins=[0, 10, 15, float('inf')], labels=['Low', 'Medium', 'High'], right=False)\n",
    "\n",
    "# Save the updated data to a new CSV file\n",
    "data.to_csv(\"C:\\\\Users\\\\suren\\\\OneDrive\\\\Desktop\\\\ASSIGNMENT2\\\\train_d.csv\", index=False)\n"
   ]
  },
  {
   "cell_type": "code",
   "execution_count": null,
   "id": "525d5761-70e4-45f3-bb2d-b697735d10d5",
   "metadata": {},
   "outputs": [],
   "source": []
  }
 ],
 "metadata": {
  "kernelspec": {
   "display_name": "Python 3 (ipykernel)",
   "language": "python",
   "name": "python3"
  },
  "language_info": {
   "codemirror_mode": {
    "name": "ipython",
    "version": 3
   },
   "file_extension": ".py",
   "mimetype": "text/x-python",
   "name": "python",
   "nbconvert_exporter": "python",
   "pygments_lexer": "ipython3",
   "version": "3.11.3"
  }
 },
 "nbformat": 4,
 "nbformat_minor": 5
}
